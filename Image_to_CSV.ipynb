{
 "cells": [
  {
   "cell_type": "code",
   "execution_count": 4,
   "id": "a9d5bde9",
   "metadata": {},
   "outputs": [
    {
     "name": "stdout",
     "output_type": "stream",
     "text": [
      "Requirement already satisfied: opencv-python in c:\\users\\fahad\\anaconda3\\lib\\site-packages (4.10.0.84)\n",
      "Requirement already satisfied: numpy>=1.21.2 in c:\\users\\fahad\\anaconda3\\lib\\site-packages (from opencv-python) (1.24.3)\n"
     ]
    }
   ],
   "source": [
    "!pip install opencv-python"
   ]
  },
  {
   "cell_type": "code",
   "execution_count": 8,
   "id": "62ae3b63",
   "metadata": {},
   "outputs": [],
   "source": [
    "import numpy as np\n",
    "import cv2\n",
    "import os\n",
    "\n",
    "# Define the paths for train and test directories\n",
    "IMG_DIR = 'emotion-dataset'\n",
    "TRAIN_DIR = os.path.join(IMG_DIR, 'train')\n",
    "TEST_DIR = os.path.join(IMG_DIR, 'test')\n",
    "\n",
    "def images_to_csv(root_dir, output_csv):\n",
    "    with open(output_csv, 'ab') as f:\n",
    "        # Iterate through each subdirectory in the root directory\n",
    "        for emotion_dir in os.listdir(root_dir):\n",
    "            emotion_path = os.path.join(root_dir, emotion_dir)\n",
    "            # Check if it is a directory (to skip files or other non-directory items)\n",
    "            if os.path.isdir(emotion_path):\n",
    "                for img in os.listdir(emotion_path):\n",
    "                    img_path = os.path.join(emotion_path, img)\n",
    "                    img_array = cv2.imread(img_path, cv2.IMREAD_GRAYSCALE)\n",
    "                    \n",
    "                    if img_array is not None:\n",
    "                        img_array = img_array.reshape(1, -1)  # Flatten the image to a 1D array\n",
    "                        np.savetxt(f, img_array, delimiter=\",\")\n",
    "                    else:\n",
    "                        print(f\"Could not read image {img_path}\")\n",
    "\n",
    "# Convert train images to train.csv\n",
    "images_to_csv(TRAIN_DIR, 'train.csv')\n",
    "\n",
    "# Convert test images to test.csv\n",
    "images_to_csv(TEST_DIR, 'test.csv')\n"
   ]
  },
  {
   "cell_type": "code",
   "execution_count": null,
   "id": "1c0a8f37",
   "metadata": {},
   "outputs": [],
   "source": []
  }
 ],
 "metadata": {
  "kernelspec": {
   "display_name": "Python 3 (ipykernel)",
   "language": "python",
   "name": "python3"
  },
  "language_info": {
   "codemirror_mode": {
    "name": "ipython",
    "version": 3
   },
   "file_extension": ".py",
   "mimetype": "text/x-python",
   "name": "python",
   "nbconvert_exporter": "python",
   "pygments_lexer": "ipython3",
   "version": "3.11.5"
  }
 },
 "nbformat": 4,
 "nbformat_minor": 5
}
